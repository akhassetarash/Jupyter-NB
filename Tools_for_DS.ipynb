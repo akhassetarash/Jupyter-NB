{
 "cells": [
  {
   "cell_type": "markdown",
   "id": "4ffef477-fa6b-46cc-8195-03d526fcc51b",
   "metadata": {},
   "source": [
    "# Data Science Tools and Ecosystem"
   ]
  },
  {
   "cell_type": "markdown",
   "id": "2312a027-ff45-420d-affe-575331555a02",
   "metadata": {},
   "source": [
    "H1: Data Science Tools and Ecosystem"
   ]
  },
  {
   "cell_type": "markdown",
   "id": "17712f56-bc0d-4f86-b877-b393c9993286",
   "metadata": {},
   "source": [
    " In this notebook, Data Science Tools and Ecosystem are summarized."
   ]
  },
  {
   "cell_type": "markdown",
   "id": "ba4c0bcf-372d-4549-9d4d-b3c3cacd69b8",
   "metadata": {},
   "source": [
    "Some of the popular languages that Data Scientists use are:"
   ]
  },
  {
   "cell_type": "markdown",
   "id": "9cf6796d-e7df-41ae-b027-682e6990a6a5",
   "metadata": {},
   "source": [
    "1. Python\n",
    "2. R\n",
    "3. SQL\n"
   ]
  },
  {
   "cell_type": "markdown",
   "id": "eccd0f0b-fdf1-4b68-9d52-b5c0a3b04558",
   "metadata": {},
   "source": [
    "Some of the commonly used libraries used by Data Scientists include:\n",
    "- Github\n",
    "- Data Asset Exchange\n",
    "- MLexchange"
   ]
  },
  {
   "cell_type": "markdown",
   "id": "3d819e07-ab0b-483f-b226-bdc09398b4b7",
   "metadata": {},
   "source": [
    "| Data Science Tools |\n",
    "| ------- |\n",
    "| Python |\n",
    "| R Studio|\n",
    "| Anaconda |\n",
    " "
   ]
  },
  {
   "cell_type": "markdown",
   "id": "c2c5a919-d6af-452d-a268-7461ef9511ab",
   "metadata": {},
   "source": [
    "### Below are a few examples of evaluating arithmetic expressions in Python"
   ]
  },
  {
   "cell_type": "markdown",
   "id": "9b7e6e67-875a-441a-b973-3e1109b1352f",
   "metadata": {},
   "source": [
    "This a simple arithmetic expression to mutiply then add integers\n"
   ]
  },
  {
   "cell_type": "code",
   "execution_count": 9,
   "id": "ba9141ee-cc59-4285-b7db-472a133b80c1",
   "metadata": {},
   "outputs": [
    {
     "data": {
      "text/plain": [
       "17"
      ]
     },
     "execution_count": 9,
     "metadata": {},
     "output_type": "execute_result"
    }
   ],
   "source": [
    "(3*4)+5"
   ]
  },
  {
   "cell_type": "markdown",
   "id": "c73c37d5-06a0-4313-8cc0-1f1362d0d5eb",
   "metadata": {},
   "source": [
    "This will convert 200 minutes to hours by diving by 60"
   ]
  },
  {
   "cell_type": "code",
   "execution_count": 10,
   "id": "36a12f3a-7d1d-47ee-b8dd-4287176b9e2a",
   "metadata": {},
   "outputs": [
    {
     "data": {
      "text/plain": [
       "3.3333333333333335"
      ]
     },
     "execution_count": 10,
     "metadata": {},
     "output_type": "execute_result"
    }
   ],
   "source": [
    "200/60"
   ]
  },
  {
   "cell_type": "markdown",
   "id": "fae5a5b2-93aa-41be-87b3-0947c154bf0b",
   "metadata": {},
   "source": [
    "**Objectives:**"
   ]
  },
  {
   "cell_type": "markdown",
   "id": "1591fad0-05db-4ea9-96d1-811321399fcf",
   "metadata": {},
   "source": [
    "- python\n",
    "- R\n",
    "- SQL\n",
    "- Visual Studio\n"
   ]
  },
  {
   "cell_type": "markdown",
   "id": "b41277d8-3a6d-46fa-9179-a61f8fa835ad",
   "metadata": {},
   "source": [
    "## Author"
   ]
  },
  {
   "cell_type": "markdown",
   "id": "a6291e82-58d8-44a9-81ba-8c7107f52bd6",
   "metadata": {},
   "source": [
    "Arash Khassetarash\n"
   ]
  },
  {
   "cell_type": "code",
   "execution_count": null,
   "id": "eb3afac1-082f-45eb-b493-29ec725ab5bb",
   "metadata": {},
   "outputs": [],
   "source": []
  }
 ],
 "metadata": {
  "kernelspec": {
   "display_name": "Python 3 (ipykernel)",
   "language": "python",
   "name": "python3"
  },
  "language_info": {
   "codemirror_mode": {
    "name": "ipython",
    "version": 3
   },
   "file_extension": ".py",
   "mimetype": "text/x-python",
   "name": "python",
   "nbconvert_exporter": "python",
   "pygments_lexer": "ipython3",
   "version": "3.11.7"
  }
 },
 "nbformat": 4,
 "nbformat_minor": 5
}
